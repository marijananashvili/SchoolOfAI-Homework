{
 "cells": [
  {
   "cell_type": "code",
   "execution_count": null,
   "metadata": {},
   "outputs": [],
   "source": [
    "%load_ext autoreload\n",
    "%autoreload 2\n",
    "\n",
    "%matplotlib inline"
   ]
  },
  {
   "cell_type": "markdown",
   "metadata": {},
   "source": [
    "## Basic setup"
   ]
  },
  {
   "cell_type": "markdown",
   "metadata": {},
   "source": [
    "Create anaconda environment\n",
    "<br>\n",
    "```bash\n",
    "conda create -n ml python=3.7.4 jupyter\n",
    "```\n",
    "Install fastai library\n",
    "<br>\n",
    "```bash\n",
    "conda install -c pytorch -c fastai fastai\n",
    "```"
   ]
  },
  {
   "cell_type": "markdown",
   "metadata": {},
   "source": [
    "# Derivatives"
   ]
  },
  {
   "cell_type": "markdown",
   "metadata": {},
   "source": [
    "#### Example:\n",
    "$$f(x,y) = \\begin{cases}x & \\text{if }y \\ne x^2 \\\\ 0 & \\text{if }y = x^2\\end{cases}$$"
   ]
  },
  {
   "cell_type": "markdown",
   "metadata": {},
   "source": [
    "We have partial derivatives\n",
    "    \n",
    "$f_{x}(0,0)=\\lim_{h\\to 0} \\frac{f(0+h,0)-f(0,0) }{h}=\\lim_{h\\to 0} \\frac{h}{h}=1$\n",
    "\n",
    "$f_{y}(0,0)=\\lim_{h\\to 0} \\frac{f(0,0+h)-f(0,0) }{h}=\\lim_{h\\to 0} \\frac{0}{h}=0$"
   ]
  },
  {
   "cell_type": "markdown",
   "metadata": {},
   "source": [
    "$f: R^m \\rightarrow R_n$ is diffferentiable in x_0 if there exists linear map  $J: R^m \\rightarrow R_n$ such that <br>\n",
    "$\\lim_{h\\to 0} \\frac{\\parallel f(x_0+h)-f(x_0)-J(h)\\parallel_{R^n}}{\\parallel h \\parallel_{R^m}}=0$"
   ]
  },
  {
   "cell_type": "markdown",
   "metadata": {},
   "source": [
    "#### Example:\n",
    "$$f(x,y) = \\begin{cases}y^3/(x^2+y^2) & \\text{if }(x,y) \\ne (0,0) \\\\ 0 & \\text{if }(x,y) = (0,0)\\end{cases}$$"
   ]
  },
  {
   "cell_type": "markdown",
   "metadata": {},
   "source": [
    "$x=r \\cos(\\alpha)$ and $y=r\\sin(\\alpha)$ <br>\n",
    "\n",
    "$f(r,\\alpha)=\\begin{cases}\\frac{r^3sin^3(\\alpha)}{r^2}& \\text{if }r>0 \\\\ 0 & \\text{if }r=0\\end{cases}$ <br>\n",
    "\n",
    "$f(r,\\alpha)=\\begin{cases}rsin^3(\\alpha)& \\text{if }r>0 \\\\ 0 & \\text{if }r=0\\end{cases}$\n",
    "\n",
    "$\\frac{\\partial f}{\\partial r}$=$\\lim_{n\\to\\infty}$$\\frac{(r+h-r)\\sin^3(\\alpha)}{h}$=$\\sin^3(\\alpha)$ <br>\n",
    "\n",
    "We can see that derivative is depend on the angle, as $\\alpha$ changes we will get different derivatives."
   ]
  },
  {
   "cell_type": "code",
   "execution_count": null,
   "metadata": {},
   "outputs": [],
   "source": []
  }
 ],
 "metadata": {
  "kernelspec": {
   "display_name": "Python 3",
   "language": "python",
   "name": "python3"
  },
  "language_info": {
   "codemirror_mode": {
    "name": "ipython",
    "version": 3
   },
   "file_extension": ".py",
   "mimetype": "text/x-python",
   "name": "python",
   "nbconvert_exporter": "python",
   "pygments_lexer": "ipython3",
   "version": "3.6.8"
  }
 },
 "nbformat": 4,
 "nbformat_minor": 4
}
