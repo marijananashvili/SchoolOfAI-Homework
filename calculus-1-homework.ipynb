{
 "cells": [
  {
   "cell_type": "code",
   "execution_count": 1,
   "metadata": {},
   "outputs": [],
   "source": [
    "%load_ext autoreload\n",
    "%autoreload 2\n",
    "\n",
    "%matplotlib inline"
   ]
  },
  {
   "cell_type": "markdown",
   "metadata": {},
   "source": [
    "## Basic setup"
   ]
  },
  {
   "cell_type": "markdown",
   "metadata": {},
   "source": [
    "Create anaconda environment\n",
    "<br>\n",
    "```bash\n",
    "conda create -n ml python=3.7.4 jupyter\n",
    "```\n",
    "Install fastai library\n",
    "<br>\n",
    "```bash\n",
    "conda install -c pytorch -c fastai fastai\n",
    "```"
   ]
  },
  {
   "cell_type": "code",
   "execution_count": null,
   "metadata": {},
   "outputs": [
    {
     "name": "stdout",
     "output_type": "stream",
     "text": [
      "Collecting https://github.com/ipython-contrib/jupyter_contrib_nbextensions/tarball/master\n",
      "  Downloading https://github.com/ipython-contrib/jupyter_contrib_nbextensions/tarball/master\n",
      "\u001b[K     - 29.3MB 52.5MB/s\n",
      "Collecting ipython_genutils (from jupyter-contrib-nbextensions==0.5.1)\n",
      "  Using cached https://files.pythonhosted.org/packages/fa/bc/9bd3b5c2b4774d5f33b2d544f1460be9df7df2fe42f352135381c347c69a/ipython_genutils-0.2.0-py2.py3-none-any.whl\n",
      "Collecting jupyter_contrib_core>=0.3.3 (from jupyter-contrib-nbextensions==0.5.1)\n",
      "  Downloading https://files.pythonhosted.org/packages/e6/8f/04a752a8b66a66e7092c035e5d87d2502ac7ec07f9fb6059059b6c0dc272/jupyter_contrib_core-0.3.3-py2.py3-none-any.whl\n",
      "Collecting jupyter_core (from jupyter-contrib-nbextensions==0.5.1)\n",
      "  Using cached https://files.pythonhosted.org/packages/fb/82/86437f661875e30682e99d04c13ba6c216f86f5f6ca6ef212d3ee8b6ca11/jupyter_core-4.6.1-py2.py3-none-any.whl\n",
      "Collecting jupyter_highlight_selected_word>=0.1.1 (from jupyter-contrib-nbextensions==0.5.1)\n",
      "  Downloading https://files.pythonhosted.org/packages/50/d7/19ab7cfd60bf268d2abbacc52d4295a40f52d74dfc0d938e4761ee5e598b/jupyter_highlight_selected_word-0.2.0-py2.py3-none-any.whl\n",
      "Collecting jupyter_latex_envs>=1.3.8 (from jupyter-contrib-nbextensions==0.5.1)\n",
      "  Downloading https://files.pythonhosted.org/packages/0e/15/55805de080d5542f76920364635e96e64d3b37f678befdfe3b16aa154205/jupyter_latex_envs-1.4.6.tar.gz (861kB)\n",
      "\u001b[K    100% |████████████████████████████████| 870kB 818kB/s ta 0:00:01\n",
      "\u001b[?25hCollecting jupyter_nbextensions_configurator>=0.4.0 (from jupyter-contrib-nbextensions==0.5.1)\n",
      "  Downloading https://files.pythonhosted.org/packages/51/a3/d72d5f2dc10c5ccf5a6f4c79f636bf071a5ce462dedd07af2f70384db6cb/jupyter_nbextensions_configurator-0.4.1.tar.gz (479kB)\n",
      "\u001b[K    100% |████████████████████████████████| 481kB 1.1MB/s ta 0:00:01\n",
      "\u001b[?25hCollecting nbconvert>=4.2 (from jupyter-contrib-nbextensions==0.5.1)\n",
      "  Downloading https://files.pythonhosted.org/packages/79/6c/05a569e9f703d18aacb89b7ad6075b404e8a4afde2c26b73ca77bb644b14/nbconvert-5.6.1-py2.py3-none-any.whl (455kB)\n",
      "\u001b[K    100% |████████████████████████████████| 460kB 1.7MB/s ta 0:00:01\n",
      "\u001b[?25hCollecting notebook>=4.0 (from jupyter-contrib-nbextensions==0.5.1)\n",
      "  Using cached https://files.pythonhosted.org/packages/f6/36/89ebfffc9dd8c8dbd81c1ffb53e3d4233ee666414c143959477cb07cc5f5/notebook-5.7.8-py2.py3-none-any.whl\n",
      "Collecting pyyaml (from jupyter-contrib-nbextensions==0.5.1)\n",
      "  Downloading https://files.pythonhosted.org/packages/e3/e8/b3212641ee2718d556df0f23f78de8303f068fe29cdaa7a91018849582fe/PyYAML-5.1.2.tar.gz (265kB)\n",
      "\u001b[K    100% |████████████████████████████████| 266kB 2.3MB/s ta 0:00:011\n",
      "\u001b[?25hCollecting tornado (from jupyter-contrib-nbextensions==0.5.1)\n",
      "Collecting traitlets>=4.1 (from jupyter-contrib-nbextensions==0.5.1)\n",
      "  Using cached https://files.pythonhosted.org/packages/ca/ab/872a23e29cec3cf2594af7e857f18b687ad21039c1f9b922fac5b9b142d5/traitlets-4.3.3-py2.py3-none-any.whl\n",
      "Collecting lxml (from jupyter-contrib-nbextensions==0.5.1)\n",
      "  Downloading https://files.pythonhosted.org/packages/e4/f4/65d145cd6917131826050b0479be35aaccba2847b7f80fc4afc6bec6616b/lxml-4.4.1-cp27-cp27mu-manylinux1_x86_64.whl (5.7MB)\n",
      "\u001b[K    100% |████████████████████████████████| 5.7MB 199kB/s ta 0:00:0111\n",
      "\u001b[?25hCollecting setuptools (from jupyter_contrib_core>=0.3.3->jupyter-contrib-nbextensions==0.5.1)\n"
     ]
    }
   ],
   "source": [
    "!pip install https://github.com/ipython-contrib/jupyter_contrib_nbextensions/tarball/master\n",
    "!pip install jupyter_nbextensions_configurator\n",
    "!jupyter contrib nbextension install --user\n",
    "!jupyter nbextensions_configurator enable --user"
   ]
  },
  {
   "cell_type": "markdown",
   "metadata": {},
   "source": [
    "# Metric spaces"
   ]
  },
  {
   "cell_type": "markdown",
   "metadata": {},
   "source": [
    "#### Prove that:\n",
    "For every metric space (X, d):\n",
    "- For eny $\\mathcal{U} = \\{U | U$ is open in $(X, d)\\}$ holds $\\bigcup_{U \\in \\mathcal{U}} U$ is open in $(X, d)$ <br/> \n",
    "PROOF: <br/>\n",
    "Let $\\mathcal{i}$ be index of $U$, and $U$ is open in $X$, i=1,2,3,..., Let x$\\in\\bigcup U_{i}$ , then x$\\in\\bigcup U_{m}$ and $U_{m}$ is open in X $\\forall\\epsilon$>0 $\\exists B_{\\epsilon}(x)$ $\\subseteq U_{m} \\subseteq\\bigcup U_{i}$ <br/> where $B_{\\epsilon}(x)$ is open of $x$ in $X$. \n",
    "- For any two $U, V \\subset X$ open in $(X, d)$ holds: $U \\cap V$ is open in $(X, d)$<br/>\n",
    "PROOF: <br/>Let $x\\in U \\cap V$ this means $x \\in U$ and $x\\in V$ <br/>\n",
    "$\\exists\\epsilon_{u}>0, \\epsilon_{v}$ : $B_{\\epsilon_{u}}(x)\\subseteq U$, $B_{\\epsilon_{v}}(x)\\subseteq V$ <br/>\n",
    "$\\epsilon=$min$\\{ \\epsilon_{u},\\epsilon_{v}\\}$,then $B_{\\epsilon}(x)$ $\\subseteq B_{\\epsilon_{u}}(x)$ $\\subseteq B_{\\epsilon_{u}}(x)$, so $B_{\\epsilon}(x)$ $\\subseteq U \\cap V$ \n",
    "- $X$ is open in $(X, d)$ <br/>\n",
    "PROOF: <br/>\n",
    "Let $x\\in X$. To show $X$ is open in $X$, we need to show there is  $\\varepsilon>0$ such that the ball $B(x,\\varepsilon)$ with center x and radius $\\varepsilon$ is  in X. Note that by definition, $B(x,\\varepsilon)={y∈X, d(x,y)<\\varepsilon}$\n",
    "so $B(x,\\varepsilon)$ is always a subset of $X$, for any choice of $\\varepsilon>0$. So, X is open in X.\n",
    "- $\\emptyset$ is open in $(X, d)$ <br/>\n",
    "PROOF: <br/>\n",
    "all the points of the empty set are interior points, this means that $\\emptyset$ is open"
   ]
  },
  {
   "cell_type": "markdown",
   "metadata": {},
   "source": [
    "#### Prove that:\n",
    "- For any finity set $(U)_{i=1}^{n}$ of open sets in $(X, d)$, $\\bigcap_{i=1}^{n}U$ is open in $(X, d)$\n",
    "<br/> PROOF: <br/>\n",
    "Let $x\\in \\bigcap_{i=1}^{n}U$ this means $x \\in U_{i}$ <br/>\n",
    "$\\exists\\epsilon_{i}>0$ : $B_{\\epsilon_{i}}(x)\\subseteq U_{i}$ where $B_{\\epsilon_{i}}(x)$ is an open ball of $x$ <br/>\n",
    "$\\epsilon=$min$\\{ \\epsilon_{i}\\}$,then $B_{\\epsilon}(x)$ $\\subseteq B_{\\epsilon_{i}}(x)$ $\\subseteq U_{i}$, for all $i$  <br/>$B_{\\epsilon}(x)$ $\\subseteq \\bigcap_{i=1}^{n}U$"
   ]
  },
  {
   "cell_type": "markdown",
   "metadata": {},
   "source": [
    "#### Prove that for set $U \\subset X$ is open if and only if for each point $x \\in U$ there exists the open neighbourhood $V$ of $x$ such that $V \\subset U$"
   ]
  },
  {
   "cell_type": "markdown",
   "metadata": {},
   "source": [
    "#### Prove that, closed ball is closed subset in $(X, d)$\n"
   ]
  },
  {
   "cell_type": "markdown",
   "metadata": {},
   "source": [
    "PROOF: <br/>Suppose $B(x_0, r)$ is a closed ball. We show that $X\\setminus B(x_0,r)$ is open. This means that for every point $y\\in X\\setminus B(x_0,r)$ we need to find an open ball contained in $X \\setminus D$ with center y.\n",
    " $y \\in X\\setminus B(x_0,r)$, it follows that $d(y,x_0) > r$, so $d(y,x_0) - r > 0$. Let $r_1 = d(y,x_0)-r$.\n",
    "\n",
    "The open ball $B_1(y, r_1)$ is contained in $X\\setminus B(x_0,r)$. To prove this, consider any $z \\in B_1(y,r_1)$. Now use the triangle inequality:\n",
    "\n",
    "$d(x_0,y) \\leq d(x_0,z) + d(z,y) \\implies d(z,x_0) \\geq d(x_0,y) - d(z,y) > d(x_0,y) - r_1 =r$.\n",
    "This shows $z\\in X\\setminus B(x_0,r)$, this means that $B(x_0, r)$ is a closed ball.\n",
    "\n"
   ]
  },
  {
   "cell_type": "markdown",
   "metadata": {},
   "source": [
    "For every metric space (X, d):\n",
    "- For any $\\mathcal{F} = \\{F | F$ is closed in $(X, d)\\}$ holds $\\bigcap_{F \\in \\mathcal{F}} F$ is closed in $(X, d)$ <br/>\n",
    "PROOF: <br/>\n",
    "Lets $\\begin{align} \\quad S = \\bigcap_{F \\in \\mathcal F} F \\end{align}$, use De Morgan's low and complement $S^{c}$ <br/>\n",
    "$\\begin{align} \\quad S^c = \\left( \\bigcap_{F \\in \\mathcal F} F \\right )^c = \\bigcup_{F \\in \\mathcal F} F^c \\end{align}$ <br/>\n",
    "For all $F \\in \\mathcal F$ we have that $F$ is closed, The union of  collection of open sets is open, so $S^c$ is open. So, $(S^c)^c = S$."
   ]
  },
  {
   "cell_type": "markdown",
   "metadata": {},
   "source": [
    "- For any two $F_1, F_2 \\subset X$ closed in $(X, d)$ holds: $F_1 \\cup F_2$ is closed in $(X, d)$\n",
    " <br/>\n",
    " PROOF: <br/>\n",
    "Let's use De Morgan's Law, we see that the $(F_1 \\cup F_2)^c$=$F_1^c \\cap F_2^c$.  We have that $F_1, F_2$ are closed so $F_1^c, F_2^c$ are open so their intersection is open. This means that  $(F_1 \\cup F_2)^c$ is open and $(F_1 \\cup F_2)$ is closed"
   ]
  },
  {
   "cell_type": "markdown",
   "metadata": {},
   "source": [
    "- $X$ is closed in $(X, d)$ <br/>\n",
    "PROOF: <br/>\n",
    "As we already mentioned $\\emptyset$ is an open set of X. Therefore it's complement that is $X\\setminus \\emptyset=X $ is closed."
   ]
  },
  {
   "cell_type": "markdown",
   "metadata": {},
   "source": [
    "#### Prove that:\n",
    "- For eny finity set $(F)_{i=1}^{n}$ of closed sets in $(X, d)$, $\\bigcup_{i=1}^{n}F$ is closed in $(X, d)$"
   ]
  },
  {
   "cell_type": "markdown",
   "metadata": {},
   "source": [
    "PROOF: <br/>Let $\\begin{align} \\quad S = \\bigcup_{i=1}^{n} A_i \\end{align}$. <br/> \n",
    "Use De Morgan's Law and we see that $S^c$ is $\\begin{align} \\quad S^c = \\left ( \\bigcup_{i=1}^{n} F_i \\right )^c = \\bigcap_{i=1}^{n} F_i^c \\end{align}$. <br/>\n",
    "For each $F_i$ we have $F_i$ is closed, so $F^c$ is open. The intersection of a finite collection of open sets is open, so $S^c$ is open and $(S^c)^c$=S is closed. So, $\\displaystyle{\\bigcup_{i=1}^{n} F_i}$ is closed. "
   ]
  },
  {
   "cell_type": "markdown",
   "metadata": {},
   "source": [
    "#### Prove that, if $F \\subset X$ is closed then $X - F$ is open in $(X, d)$ "
   ]
  },
  {
   "cell_type": "markdown",
   "metadata": {},
   "source": [
    "PROOF: <br/>\n",
    "By condition $F$ is closed, this means that $F^c$ is open. We have  $F \\subset X$ in $(X, d)$ and $X - F$=$F^c$. As we already said $F^c$ is open, so $X - F$ is also open."
   ]
  },
  {
   "cell_type": "markdown",
   "metadata": {},
   "source": [
    "# Metrics in Euclidean spaces"
   ]
  },
  {
   "cell_type": "markdown",
   "metadata": {},
   "source": [
    "For $v, u \\in \\mathbb{R}^{n}$ let define distance function $d:\\mathbb{R}^{n} \\times \\mathbb{R}^{n} \\to \\mathbb{R}$ by $d(u, v) = ||u-v||_2$\n",
    "#### Prove that:\n",
    "- for every $u, v \\in \\mathbb{R}^{n}$: $d(u, v) \\geq 0$\n",
    "- for every $v \\in \\mathbb{R}^{n}$: $d(v, v) = 0$\n",
    "- for every $u, v \\in \\mathbb{R}^{n}$: $d(u, v) = d(v, u)$ (symmetry)\n",
    "- for every $u, v, w \\in \\mathbb{R}^{n}$: $d(u, w) \\leq d(v, u) + d(v, w)$ (triangle inequality)"
   ]
  },
  {
   "cell_type": "markdown",
   "metadata": {},
   "source": [
    "PROOF: <br/>\n",
    "- for every $u, v \\in \\mathbb{R}^{n}$  $d(u, v) = ||u-v||_2 =\\sqrt{\\sum_{i}(u_i-v_i)^2}\\geqslant 0 $ by the definition. <br/>\n",
    "- for every $v \\in \\mathbb{R}^{n}$ $d(v, v) = ||v-v||_2 =\\sqrt{\\sum_{i}(v_i-v_i)^2}= \\sqrt{(0)^2}=0 $ <br/>\n",
    "- for every $u, v \\in \\mathbb{R}^{n}$ $d(u, v) =||u-v||_2 =\\sqrt{\\sum_{i}(u_i-v_i)^2}=\\sqrt{\\sum_{i}(v_i-u_i)^2}= ||v-u||_2=d(v, u)$. <br/>\n"
   ]
  },
  {
   "cell_type": "markdown",
   "metadata": {},
   "source": [
    "#### Prove the same properties hold for $d(u, v) = ||u-v||_1$ ($||u-v||_1 = \\sum_{i = 1}^{n}|u_i - v_i|$)"
   ]
  },
  {
   "cell_type": "markdown",
   "metadata": {},
   "source": [
    "- for every $u, v \\in \\mathbb{R}^{n}$  $d(u, v) = ||u-v||_1 ={\\sum_{i}|u_i-v_i|}\\geqslant 0 $ <br/>\n",
    "- for every $u \\in \\mathbb{R}^{n}$ $d(u, u) = ||u-u||_1 ={\\sum_{i}|u_i-u_i|} ={\\sum_{i}|0|}=0 $<br/>\n",
    "- for every $u, v \\in \\mathbb{R}^{n}$ $d(u, v) = ||u-v||_1 ={\\sum_{i}|u_i-v_i|}={\\sum_{i}|v_i-u_i|}= ||v-u||_1 =d(v, u)$ <br/>\n",
    "- for every $u, v, w \\in \\mathbb{R}^{n}$: $d(u, w) ={\\sum_{i}|u_i-w_i|} \\leq {\\sum_{i}(|v_i-u_i|+|v_i-w_i|)}=d(v, u) + d(v, w)$\n",
    "We used the fact that $|u+v|\\leq |u|+|v|$."
   ]
  },
  {
   "cell_type": "markdown",
   "metadata": {},
   "source": [
    "## Sequences and limits"
   ]
  },
  {
   "cell_type": "markdown",
   "metadata": {},
   "source": [
    "#### Prove that $x = \\lim_{n\\to\\infty}{x_n}$ in $(X, d)$ if and only if (iff) for every $r \\in \\mathbb{R}$ there exists $n_0 \\in \\mathbb{N}$ such that: $x_i \\in B(x, r)$ for every $i \\gt n_0$"
   ]
  },
  {
   "cell_type": "markdown",
   "metadata": {},
   "source": [
    "#### Prove that if $x = \\lim_{n\\to\\infty}{x_n}$ and $x \\notin \\{-\\infty, \\infty\\}$ then $(x_i)_{i=1}^{\\infty} = (x_1, x_2, \\dots, x_n)$ is a Cauchy sequence\n",
    "<br>\n",
    "For closed set $F \\subset \\mathbb{R}^n$ and convergent sequence $(x_i)_{i=1}^{\\infty} = (x_1, x_2, \\dots, x_n)$ such that there exists $n_0 \\in \\mathbb{N}$ such that $x_i \\in F$ for each $i \\gt n_0$ then: $\\lim_{n\\to\\infty}{x_n} \\in F$"
   ]
  },
  {
   "cell_type": "markdown",
   "metadata": {},
   "source": [
    "#### Prove that if $F$ is open from previous example, statement does not hold. "
   ]
  },
  {
   "cell_type": "markdown",
   "metadata": {},
   "source": [
    "#### Prove that inherited metric is a metric"
   ]
  },
  {
   "cell_type": "markdown",
   "metadata": {},
   "source": [
    "## Limits of functions"
   ]
  },
  {
   "cell_type": "markdown",
   "metadata": {},
   "source": [
    "Let $f:S \\to Y$ is function between subset $S \\subset X$ of a metric space $(X, d_x)$ and metric space $(Y, d_Y)$\n",
    "- We say that the limit of function $f:(S, d_x) \\to (Y, d_Y)$ between metric spaces in some limit point $c \\in X$ of the subset $S$ is $y \\in Y $if for each open neighborhood of $y \\in V \\subset Y$ there exists the open seighborhood of $c \\in U \\subset X$ such that $f(U \\cap S) \\subset V$\n",
    "<br>\n",
    "This definition is equiualent of definition:\n",
    "<br>\n",
    "- The limit of function $f:(S, d_X) \\to (Y, d_Y)$ between metric spaces in limit point $c \\in X$ of the subset $S$ is $y \\in Y $ if for each open ball $B(x, r) \\subset Y$ there exists the ball $B(c, l) \\subset X$ such that $f(B(c, l) \\cap S) \\subset B(y, r)$\n",
    "<br>\n",
    "or\n",
    "<br>\n",
    "- The limit of function $f:(S, d_X) \\to (Y, d_Y)$ between metric spaces in limit point $c \\in X$ of subset $S$ is $y \\in Y $ if for any $r \\in \\mathbb{R}$ there exists $l \\in \\mathbb{R}$ such that for every $x \\in S$ with $d_X(x, c) < l$ implies that $d_Y(f(x), y) < r$"
   ]
  },
  {
   "cell_type": "markdown",
   "metadata": {},
   "source": [
    "#### Prove that this three definitions are equiualent for eny function between eny two metric spaces"
   ]
  },
  {
   "cell_type": "markdown",
   "metadata": {},
   "source": [
    "## Continuous functions "
   ]
  },
  {
   "cell_type": "markdown",
   "metadata": {},
   "source": [
    "#### Prove that function is continuous in $c$ if for eny sequence $(x_n)_{n=1}^{\\infty} \\subset X$ such that $\\lim_{n \\to \\infty}x_n = c$ we have $\\lim_{n \\to \\infty}f(x_n) = f(c)$"
   ]
  },
  {
   "cell_type": "markdown",
   "metadata": {},
   "source": [
    "Suppose for any sequence $(x_n)_{n=1}^{\\infty} \\subset X$ such that $x_n \\to c \\Rightarrow f(x_n) \\to f(c)$ ,Let's assume that f is not continuous at c. This means that there exists $\\varepsilon>o$ such that for every $m \\in \\mathbb{N} $ there exists $x_m \\in X$ with $d(x_m,c)<\\frac{1}{m}$ and $d(f(x_m),f(c))\\geqslant \\varepsilon$ . Then $x \\to c$ but $f(x_m) \\nrightarrow f(c)$. we get the contradiction, this means that our assumption was wrong. "
   ]
  },
  {
   "cell_type": "markdown",
   "metadata": {},
   "source": []
  },
  {
   "cell_type": "markdown",
   "metadata": {},
   "source": [
    "#### Prove that any composition of continous functions is continous"
   ]
  },
  {
   "cell_type": "markdown",
   "metadata": {},
   "source": [
    "Let's take  $f$ and $g$ are functions such that $g$ is continuous at $a$, and $f$ is continuous at $g(a)$. For the first time we will show that the  composition $f(g(x))$ is continuous at $a$.  <br>\n",
    "Since $f$ is continuous at $g(a)$, our definition of continuity tells us that for all $\\varepsilon > 0$ there is some $\\delta_1$ such that\n",
    "$|g(x) - g(a)| < \\delta_1\\implies|f(g(x))-f(g(a))|<\\varepsilon$.\n",
    "Also, since $g$ is continuous at $a$, there is some $\\delta$ such that\n",
    "$|x-a|<\\delta \\implies |g(x)-g(a)|<\\delta_1$.\n",
    "I've taken $\\varepsilon =\\delta_1$ here. Now this tells us that for all $\\varepsilon > 0$ there is some $\\delta > 0$ (and a $\\delta_1 > 0$) such that\n",
    "$|x-a| < \\delta\\implies|g(x)-g(a)|<\\delta_1\\implies|f(g(x)) - f(g(a))|<\\varepsilon$,\n",
    "which is what we wanted to show.\n",
    "If this happens for any $a$ we say that composition of continous functions is continous."
   ]
  },
  {
   "cell_type": "code",
   "execution_count": null,
   "metadata": {},
   "outputs": [],
   "source": []
  }
 ],
 "metadata": {
  "kernelspec": {
   "display_name": "Python 3",
   "language": "python",
   "name": "python3"
  },
  "language_info": {
   "codemirror_mode": {
    "name": "ipython",
    "version": 3
   },
   "file_extension": ".py",
   "mimetype": "text/x-python",
   "name": "python",
   "nbconvert_exporter": "python",
   "pygments_lexer": "ipython3",
   "version": "3.6.8"
  }
 },
 "nbformat": 4,
 "nbformat_minor": 4
}
