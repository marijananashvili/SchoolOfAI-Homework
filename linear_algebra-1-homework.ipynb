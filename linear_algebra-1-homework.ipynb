{
 "cells": [
  {
   "cell_type": "code",
   "execution_count": null,
   "metadata": {},
   "outputs": [],
   "source": [
    "%load_ext autoreload\n",
    "%autoreload 2\n",
    "\n",
    "%matplotlib inline"
   ]
  },
  {
   "cell_type": "markdown",
   "metadata": {},
   "source": [
    "## Basic setup"
   ]
  },
  {
   "cell_type": "markdown",
   "metadata": {},
   "source": [
    "Create anaconda environment\n",
    "<br>\n",
    "```bash\n",
    "conda create -n ml python=3.7.4 jupyter\n",
    "```\n",
    "Install fastai library\n",
    "<br>\n",
    "```bash\n",
    "conda install -c pytorch -c fastai fastai\n",
    "```"
   ]
  },
  {
   "cell_type": "markdown",
   "metadata": {},
   "source": [
    "# Set theory basics"
   ]
  },
  {
   "cell_type": "markdown",
   "metadata": {},
   "source": [
    "#### Prove that:\n",
    "<br>\n",
    "$A \\subseteq A$"
   ]
  },
  {
   "cell_type": "markdown",
   "metadata": {},
   "source": [
    "PROOF: <br>\n",
    "We can easily prowe that $ A \\subseteq B$ if $A \\cap B=A$ <br>\n",
    "First assume that $A \\subseteq B$. If $x \\in A \\cap B$, then $x \\in A$ and $x \\in B$ by\n",
    "definition, so in particular $x \\in A$. This proves $A \\cap B \\subseteq A$. Now if $x \\in A$,\n",
    "then by assumption $x \\in  B$, too, so $x \\in A \\cap B$. This proves $A \\subseteq A \\cap B$.\n",
    "Together this implies $A = A \\cap B$.\n",
    "Now assume that $A \\cap B = A$. If $x \\in A$, then by assumption $x \\in A \\cap B$, so\n",
    "$x \\in A$ and $x \\in B$. In particular, $x \\in B$. This proves $A \\subseteq B$. <br>\n",
    "If we take $B=A$ we will have: <br>\n",
    "if $A \\cap A=A$ then $ A \\subseteq A$ "
   ]
  },
  {
   "cell_type": "markdown",
   "metadata": {},
   "source": [
    "#### Prove that:\n",
    "<br>\n",
    "If $A \\subseteq B$ and $B \\subseteq A$ $\\to$ $A = B$"
   ]
  },
  {
   "cell_type": "markdown",
   "metadata": {},
   "source": [
    "PROOF: <br>\n",
    "For the forward implication, assume $A=B$. Then for any $x \\in A$, $x \\in B$ and thus $A \\subseteq B$. Similarly, if $x \\in B$, then $x \\in A$ and thus $B \\subseteq A$. and arbitrary for every $x \\in A$ then $x \\in B$ and for every $x \\in B$ then $x \\in A$ $\\to$  $A=B$"
   ]
  },
  {
   "cell_type": "markdown",
   "metadata": {},
   "source": [
    "#### Prove that:\n",
    "<br>\n",
    "if $B \\subset A$ then $A \\cap B = B$"
   ]
  },
  {
   "cell_type": "markdown",
   "metadata": {},
   "source": [
    "PROOF: <br>\n",
    "We can easily prowe that $ B \\subset A$ if $A \\cap B=B$ <br>\n",
    "First assume that $B \\subset A$. If $x \\in A \\cap B$, then $x \\in A$ and $x \\in B$ by\n",
    "definition, so in particular $x \\in B$. This proves $A \\cap B \\subset B$. Now if $x \\in B$,\n",
    "then by assumption $x \\in  A$, too, so $x \\in A \\cap B$. This proves $B \\subset A \\cap B$.\n",
    "Together this implies $B = A \\cap B$.\n",
    "Now assume that $A \\cap B = B$. If $x \\in B$, then by assumption $x \\in A \\cap B$, so\n",
    "$x \\in A$ and $x \\in B$. In particular, $x \\in A$. This proves $B \\subset A$. <br>"
   ]
  },
  {
   "cell_type": "markdown",
   "metadata": {},
   "source": [
    "#### Prove that:\n",
    "<br>\n",
    "$A \\cap B = B \\cap A$"
   ]
  },
  {
   "cell_type": "markdown",
   "metadata": {},
   "source": [
    "PROOF:<br> \n",
    "Let $x \\in A \\cap B \\rightarrow x \\in A$ and $x \\in B \\rightarrow x \\in B$ and $x \\in A \\rightarrow x \\in B \\cap A \\rightarrow A \\cap B \\subseteq B \\cap A$  (1)\n",
    "\n",
    "Let $x \\in B \\cap A \\rightarrow x \\in$ B and $x \\in A \\rightarrow x \\in A$ and $x \\in B \\rightarrow x \\in A \\cap B \\rightarrow B \\cap A \\subseteq A \\cap B $  (2) \n",
    "\n",
    "From (1) and (2) we will have $A \\cap B = B \\cap A$"
   ]
  },
  {
   "cell_type": "markdown",
   "metadata": {},
   "source": [
    "#### Prove that:\n",
    "<br>\n",
    "if $B \\subset A$ then $A \\cup B = A$"
   ]
  },
  {
   "cell_type": "markdown",
   "metadata": {},
   "source": [
    "PROOF: <br>\n",
    "If $x \\in A \\cup B $ then $ x \\in A$ or $x\\in B$, By this and from condition $B \\subset A$ we have  $A\\cup B \\subset A$. Also, $x \\in B$ then by condition  $B \\subset A$, $x \\in A$, so $A \\cup B = A$"
   ]
  },
  {
   "cell_type": "markdown",
   "metadata": {},
   "source": [
    "#### Prove that:\n",
    "<br>\n",
    "$A \\cup B = B \\cup A$"
   ]
  },
  {
   "cell_type": "markdown",
   "metadata": {},
   "source": [
    "Let's take  $x \\in A \\cup B$ this means that $x \\in A$ or $x \\in B \\rightarrow x \\in B$ or $x \\in A \\rightarrow x \\in B \\cup A \\rightarrow x \\in A \\cup B \\subseteq B \\cup A$  (1) <br>\n",
    "let'S take $x \\in B \\cup A$ this means that $x \\in B$ or $x \\in A \\rightarrow x\\in A$ or $ x \\in B \\rightarrow x \\in A \\cup B \\rightarrow x\\in B\\cup A \\subseteq A\\cup B $ (2) <br>\n",
    "finally, from (1) and (2) $A \\cup B = B \\cup A$"
   ]
  },
  {
   "cell_type": "markdown",
   "metadata": {},
   "source": [
    "#### Prove that:\n",
    "- for every injection $m:A \\to B$ and pair of functions $f, g :C \\to A$: if $m \\circ f = m \\circ g$ then $f = g$ and vice-versa\n",
    "- for every surjection $e:A \\to B$ and every pair of functions $f, g :B \\to C$: if $f \\circ e = g \\circ e$ then $f = g$ and vice-versa"
   ]
  },
  {
   "cell_type": "markdown",
   "metadata": {},
   "source": [
    "#### Prove that \n",
    "- composition of injections is injection itself\n",
    "- composition of surjections is surjection itself\n",
    "- composition of bijections is bijection itself\n",
    "<br>\n",
    "or give a counterexamples"
   ]
  },
  {
   "cell_type": "markdown",
   "metadata": {},
   "source": [
    "#### Prove that for each set $A$:\n",
    "- $A \\cong A$\n",
    "- if $B \\cong A$ then $B \\cong A$ for every pair of sets $A$ and $B$\n",
    "- if $A \\cong B$ and $B \\cong C$ then $A \\cong C$ for every triplet $A$, $B$ and $C$"
   ]
  },
  {
   "cell_type": "markdown",
   "metadata": {},
   "source": [
    "#### Prove that:\n",
    "<br>\n",
    "there exists a bijection between set of natural and even numbers"
   ]
  },
  {
   "cell_type": "markdown",
   "metadata": {},
   "source": [
    "#### Prove that:\n",
    "<br>\n",
    "if we have a bijection between two finite sets than they have an equal number of elements"
   ]
  },
  {
   "cell_type": "markdown",
   "metadata": {},
   "source": [
    "#### Prove that:\n",
    "<br>\n",
    "$A \\times B \\cong B \\times A$"
   ]
  },
  {
   "cell_type": "markdown",
   "metadata": {},
   "source": [
    "$\\cap_{i\\in I}A_i$ and $\\cup_{i\\in I}A_i$"
   ]
  },
  {
   "cell_type": "code",
   "execution_count": null,
   "metadata": {},
   "outputs": [],
   "source": [
    "# Inplement in python"
   ]
  },
  {
   "cell_type": "markdown",
   "metadata": {},
   "source": [
    "We can also define cartesian product of any \"number\" of sets $\\prod_{i \\in I}{A_i}$"
   ]
  },
  {
   "cell_type": "code",
   "execution_count": null,
   "metadata": {},
   "outputs": [],
   "source": [
    "# Inplement in python"
   ]
  },
  {
   "cell_type": "markdown",
   "metadata": {},
   "source": [
    "#### Prove that:\n",
    "<br>\n",
    "$$A \\cup (B \\cap C)=(A \\cup B) \\cap (A\\cup C)$$"
   ]
  },
  {
   "cell_type": "markdown",
   "metadata": {},
   "source": [
    "Since $B \\cap C \\subseteq B$ and $B \\cap C \\subseteq C$, we have\n",
    "$A \\cup (B \\cap C) \\subseteq A \\cup B$\n",
    "and\n",
    "$A \\cup (B \\cap C) \\subseteq A \\cup C$\n",
    "This shows that $A \\cup (B \\cap C)$ is contained in both $A \\cup B$ and $A \\cup C$, so it is contained in their intersection:\n",
    "$A \\cup (B \\cap C)\\subseteq (A \\cup B) \\cap (A \\cup C)$\n",
    "This proves  in one direction.\n",
    "\n",
    "For the opposite direction, suppose that $x \\in (A \\cup B) \\cap (A \\cup C)$. There are two possibilities: <br>  $x \\in A$ or $x \\not\\in A$.\n",
    "\n",
    "If $x \\in A$ then certainly $x \\in A \\cup (B \\cap C)$.\n",
    "\n",
    "On the other hand, if $x \\not\\in A$, then $x$ must be in both $B$ and $C$, since $x \\in (A\\cup B) \\cap (A\\cup C)$. Consequently, $x \\in B \\cap C$, and therefore $x \\in A \\cup (B \\cap C).$\n",
    "\n",
    "In both cases we have $x \\in A \\cup (B \\cap C)$. This proves the second ditection \n",
    "$(A \\cup B) \\cap (A \\cup C) \\subseteq A \\cup (B \\cap C)$ and finally we will have <br> \n",
    "\n",
    "$$A \\cup (B \\cap C)=(A \\cup B) \\cap (A\\cup C)$$"
   ]
  },
  {
   "cell_type": "markdown",
   "metadata": {},
   "source": [
    "$$A \\cap (B \\cup C)=(A \\cap B) \\cup (A\\cap C)$$"
   ]
  },
  {
   "cell_type": "code",
   "execution_count": null,
   "metadata": {},
   "outputs": [],
   "source": []
  },
  {
   "cell_type": "markdown",
   "metadata": {},
   "source": [
    "# Linear Algebra"
   ]
  },
  {
   "cell_type": "markdown",
   "metadata": {},
   "source": [
    "#### Prove that:\n",
    "<br>\n",
    "$(AB)^{T} = B^{T}A^{T}$ for each pair of matrices $A, B \\in \\mathbb{R}^{n \\times m}$"
   ]
  },
  {
   "cell_type": "markdown",
   "metadata": {},
   "source": [
    "The product of A and B matrix is\n",
    "$(A\\cdot B)_{ij}=\\text{row}(A)_i \\cdot \\text{column}(B)_j\n",
    " (A\\cdot B_{ij})^T=C_{ji} = \\text{row}(A)_j \\cdot \\text{column}(B)_i\n",
    " \\text{row}(A)_i=\\text{column}(A^T)_i\n",
    " \\text{column}(B)_j=\\text{row}(B^T)_j\n",
    " (A\\cdot B)_{ij}=\\text{row}(A)_i \\cdot \\text{column}(B)_j=\\text{column}(A^T)_i \\cdot \\text{row}(B^T)_j=\\text{row}(B^T)_j \\cdot \\text{column}(A^T)_i=(B^T \\cdot A^T)_{ji}.$\n",
    "So, we have: <br> $(A \\cdot B)_{ij}=(B^T \\cdot A^T)_{ji}$.<br>\n",
    "We can rewrite last statement in following form:<br>\n",
    "$(A \\cdot B)=(B^T \\cdot A^T)^T$.<br>\n",
    "Now, lets transpose both sides and we will get what we want:<br>\n",
    "$(A \\cdot B)^T=B^T \\cdot A^T$."
   ]
  },
  {
   "cell_type": "markdown",
   "metadata": {},
   "source": [
    "## Functions on tensors"
   ]
  },
  {
   "cell_type": "markdown",
   "metadata": {},
   "source": [
    "#### Write combination for $XOR$ calculation"
   ]
  },
  {
   "cell_type": "code",
   "execution_count": null,
   "metadata": {},
   "outputs": [],
   "source": []
  }
 ],
 "metadata": {
  "kernelspec": {
   "display_name": "Python 3",
   "language": "python",
   "name": "python3"
  },
  "language_info": {
   "codemirror_mode": {
    "name": "ipython",
    "version": 3
   },
   "file_extension": ".py",
   "mimetype": "text/x-python",
   "name": "python",
   "nbconvert_exporter": "python",
   "pygments_lexer": "ipython3",
   "version": "3.6.8"
  }
 },
 "nbformat": 4,
 "nbformat_minor": 4
}
